{
 "cells": [
  {
   "cell_type": "markdown",
   "id": "2d66e072-4432-4e73-ba8b-874525ad6535",
   "metadata": {},
   "source": [
    "A key characteristic of time-series data is their sequential order: rather than random samples of individual observations as in the case of cross-sectional data, our data are a single realization of a stochastic process that we cannot repeat."
   ]
  },
  {
   "cell_type": "markdown",
   "id": "62b4f8de-c19a-466a-bb31-fa908d48c408",
   "metadata": {},
   "source": [
    "## Goal"
   ]
  },
  {
   "cell_type": "markdown",
   "id": "b4c7b4ba-57cd-4f4d-a24c-9418df3f1223",
   "metadata": {},
   "source": [
    "- to identify systematic patterns in time series that help us predict how the time series will behave in the future\n",
    "- extract signals from a historical sequence of the output and, optionally, other contemporaneous or lagged input variables to predict future values of the output\n",
    "- try to predict future returns for a stock using past returns, combined with historical returns of a benchmark or macroeconomic variables\n",
    "- study nonlinear models like recurrent or convolutional neural networks "
   ]
  },
  {
   "cell_type": "code",
   "execution_count": null,
   "id": "e346f04b-bf05-480f-99db-143ec748baf3",
   "metadata": {},
   "outputs": [],
   "source": []
  }
 ],
 "metadata": {
  "kernelspec": {
   "display_name": "Python 3",
   "language": "python",
   "name": "python3"
  },
  "language_info": {
   "codemirror_mode": {
    "name": "ipython",
    "version": 3
   },
   "file_extension": ".py",
   "mimetype": "text/x-python",
   "name": "python",
   "nbconvert_exporter": "python",
   "pygments_lexer": "ipython3",
   "version": "3.8.8"
  }
 },
 "nbformat": 4,
 "nbformat_minor": 5
}
